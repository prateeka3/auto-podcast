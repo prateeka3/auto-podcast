{
 "cells": [
  {
   "cell_type": "code",
   "execution_count": 2,
   "metadata": {},
   "outputs": [
    {
     "name": "stderr",
     "output_type": "stream",
     "text": [
      "Python-dotenv could not parse statement starting at line 1\n"
     ]
    }
   ],
   "source": [
    "from dotenv import load_dotenv\n",
    "import os\n",
    "from audio_helpers import cut_audio_segment\n",
    "from api_helpers import init_aai_api_key, save_raw_transcript\n",
    "from transcription import extract_longest_speaker_segments\n",
    "\n",
    "# Add FFmpeg to PATH at runtime\n",
    "os.environ[\"PATH\"] = \"/usr/local/bin:\" + os.environ[\"PATH\"]\n",
    "\n",
    "load_dotenv('.envrc')\n",
    "init_aai_api_key()"
   ]
  },
  {
   "cell_type": "markdown",
   "metadata": {},
   "source": [
    "\n",
    "# Clean background noise\n",
    "\n",
    "There are many places that can strip background noise from your vocal recordings, with varying levels of cost-effectiveness. Here's some I've personally used:\n",
    "-  [lalal.ai](www.lalal.ai) - No subscription, you can buy credits. Regular pricing sits between 5-15 processing minutes/$. There's usually massive 90% of sales around holidays to stock up on\n",
    "- [elevenlabs.ai](www.elevenlabs.ai) - lowest tier is 5$/mo for 30 mins of text-to-speech. Seems like they have 60 minutes of vocal isolation for free per account: https://elevenlabs.io/app/voice-isolator\n"
   ]
  },
  {
   "cell_type": "code",
   "execution_count": 2,
   "metadata": {},
   "outputs": [],
   "source": [
    "RAW_FILE_URL=\"./audio/ai_club_therapy_full_recording_raw.m4a\"\n",
    "CLEAN_FILE_URL=\"./audio/ai_club_therapy_full_recording_clean.m4a\""
   ]
  },
  {
   "cell_type": "markdown",
   "metadata": {},
   "source": [
    "# [Optional] Experiment on a smaller chunk of audio\n",
    "\n",
    "save processing credits during experimentation"
   ]
  },
  {
   "cell_type": "code",
   "execution_count": null,
   "metadata": {},
   "outputs": [],
   "source": [
    "\n",
    "CLEAN_FILE_SAMPLE_URL=CLEAN_FILE_URL[:CLEAN_FILE_URL.rindex('.')] + '_shortened' + CLEAN_FILE_URL[CLEAN_FILE_URL.rindex('.'):]\n",
    "cut_audio_segment(CLEAN_FILE_URL, 60, CLEAN_FILE_SAMPLE_URL)"
   ]
  },
  {
   "cell_type": "markdown",
   "metadata": {},
   "source": [
    "# Transcribe with diarization\n",
    "\n",
    "inspect transcription object for:\n",
    "- confidence of words\n",
    "- longest segment of continuous speech for each speaker (for good voice cloning)\n",
    "- confidence of speaker\n",
    "- compare confidence on a sample before and after voice cleaning\n"
   ]
  },
  {
   "cell_type": "code",
   "execution_count": 3,
   "metadata": {},
   "outputs": [],
   "source": [
    "from api_helpers import get_transcript\n",
    "transcript = get_transcript('a6d49c9c-b67c-4e04-9e2f-3ba062cd2192')"
   ]
  },
  {
   "cell_type": "code",
   "execution_count": 4,
   "metadata": {},
   "outputs": [
    {
     "data": {
      "text/html": [
       "<div>\n",
       "<style scoped>\n",
       "    .dataframe tbody tr th:only-of-type {\n",
       "        vertical-align: middle;\n",
       "    }\n",
       "\n",
       "    .dataframe tbody tr th {\n",
       "        vertical-align: top;\n",
       "    }\n",
       "\n",
       "    .dataframe thead th {\n",
       "        text-align: right;\n",
       "    }\n",
       "</style>\n",
       "<table border=\"1\" class=\"dataframe\">\n",
       "  <thead>\n",
       "    <tr style=\"text-align: right;\">\n",
       "      <th></th>\n",
       "      <th>start</th>\n",
       "      <th>end</th>\n",
       "      <th>speaker</th>\n",
       "      <th>length</th>\n",
       "    </tr>\n",
       "  </thead>\n",
       "  <tbody>\n",
       "    <tr>\n",
       "      <th>578</th>\n",
       "      <td>6380598</td>\n",
       "      <td>6454830</td>\n",
       "      <td>A</td>\n",
       "      <td>74232</td>\n",
       "    </tr>\n",
       "    <tr>\n",
       "      <th>392</th>\n",
       "      <td>4587204</td>\n",
       "      <td>4674820</td>\n",
       "      <td>B</td>\n",
       "      <td>87616</td>\n",
       "    </tr>\n",
       "    <tr>\n",
       "      <th>172</th>\n",
       "      <td>2063596</td>\n",
       "      <td>2225078</td>\n",
       "      <td>C</td>\n",
       "      <td>161482</td>\n",
       "    </tr>\n",
       "    <tr>\n",
       "      <th>256</th>\n",
       "      <td>3130210</td>\n",
       "      <td>3197026</td>\n",
       "      <td>D</td>\n",
       "      <td>66816</td>\n",
       "    </tr>\n",
       "  </tbody>\n",
       "</table>\n",
       "</div>"
      ],
      "text/plain": [
       "       start      end speaker  length\n",
       "578  6380598  6454830       A   74232\n",
       "392  4587204  4674820       B   87616\n",
       "172  2063596  2225078       C  161482\n",
       "256  3130210  3197026       D   66816"
      ]
     },
     "execution_count": 4,
     "metadata": {},
     "output_type": "execute_result"
    }
   ],
   "source": [
    "# Get longest segments\n",
    "longest_segments = extract_longest_speaker_segments(transcript, './audio/ai_club_therapy_full_recording_clean.m4a')\n",
    "longest_segments"
   ]
  },
  {
   "cell_type": "code",
   "execution_count": 5,
   "metadata": {},
   "outputs": [],
   "source": [
    "# write this transcription to a file\n",
    "save_raw_transcript(transcript, './transcription/raw_transcript.txt')"
   ]
  },
  {
   "cell_type": "markdown",
   "metadata": {},
   "source": [
    "# 4. use LLM to shorten into a 15 minute podcast script"
   ]
  },
  {
   "cell_type": "markdown",
   "metadata": {},
   "source": [
    "# Example prompts\n",
    "In this file you'll find transcribed dialogue between 4 speakers. Can you:\n",
    "* guess the names of each speaker\n",
    "* summarize the content of the talk into a few key topics\n",
    "* suggest an ideal length in minutes for a condensed podcast based on the content of the conversation\n",
    "* create a high level structure for the podcast reminiscent of podcasts by NYT or NPR, e.g: Planet Money that adheres roughly to the ideal length you found earlier\n",
    "\n",
    "\n",
    "I like this outline a lot. You're a podcast writer for the New York Times and NPR. Can you write a script for this podcast based off this outline? You should:\n",
    "* include as many direct quotes from the transcript as possible while maintaining fluidity\n",
    "* maintain the characteristics and viewpoints of the original speakers. I want the personalities and perspectives to stay intact\n",
    "* Try to make the overall script last between 18 and 22 minutes, as I find that as the sweet spot for podcasts for me\n",
    "\n",
    "This is in the right direction! some edits:\n",
    "* there is no host or narrator, just the four people who are talking\n",
    "* include quotes around the direct quotes from the raw transcript so I know what is generated and what is real\n",
    "\n",
    "Can you generate some more dialogue that sticks to the original outline, makes the conversation more naturally continuous, and makes sure the characters are consistent with their viewpoints from the transcript?\n",
    "\n",
    "how long would this script last?\n",
    "\n",
    "make sure to hit all the points in the raw transcript. aim for 15 minutes"
   ]
  },
  {
   "cell_type": "markdown",
   "metadata": {},
   "source": [
    "# 5. use voice cloning from eleven labs to clone voices"
   ]
  },
  {
   "cell_type": "code",
   "execution_count": 54,
   "metadata": {},
   "outputs": [],
   "source": [
    "ariel_voice_id=\"zjOIoGUiC56XFirKkLFQ\"\n",
    "merrell_voice_id=\"0x6lnQk4hLCTEY7oASNI\"\n",
    "sonia_voice_id=\"q1HC2axykp8y4uhDuA5Y\"\n",
    "prateek_voice_id=\"Sx55FitwWULr2NOcYsYE\"\n",
    "\n",
    "SPEAKER_NAME_TO_VOICE_ID = {\n",
    "    \"ARIELLE\": ariel_voice_id,\n",
    "    \"MERYL\": merrell_voice_id,\n",
    "    \"SONIA\": sonia_voice_id,\n",
    "    \"PRATIK\": prateek_voice_id\n",
    "}"
   ]
  },
  {
   "cell_type": "code",
   "execution_count": 64,
   "metadata": {},
   "outputs": [
    {
     "name": "stdout",
     "output_type": "stream",
     "text": [
      "Generating audio for SONIA: Okay, I've been thinking about this a lot - what do you guys think is actually the point of therapy?\n",
      "Generating audio for ARIELLE: It's really about relationships - \"it's like a specific type of relationship that's been developed through science\" where through that connection, people can understand themselves better or work through problems.\n",
      "Generating audio for MERYL: Yeah, I think there are different categories though. \"Like therapy when you have a really like much more severe mental health issue that needs immediate intervention\" versus the more general stuff we all deal with.\n",
      "Generating audio for SONIA: See, I look at it differently. \"I feel like I'm in therapy to like put together puzzle pieces.\" It's not really about the relationship for me - it's about seeing patterns and making connections.\n",
      "Generating audio for MERYL: How do your sessions usually work?\n",
      "Generating audio for SONIA: \"Honestly, it's pretty banal. Like somebody just says like, 'so how are you doing? How's your week going?' But then you're supposed to answer honestly as opposed to how you answer every other time somebody asks you that.\"\n",
      "Generating audio for PRATIK: I mean, looking at AI, it could handle all of that. Regular therapists come with their own biases and approaches, but AI could adapt to exactly what each person needs.\n",
      "Generating audio for ARIELLE: Yeah but that's what bothers me about AI therapy. You're trying to remove all the friction, all the struggle of actually connecting with another person.\n",
      "Generating audio for MERYL: I tried one of these AI therapy apps recently. \"I asked it about this brunch with some girls that didn't make me feel good, and everything I said it validated.\" Just kept agreeing with whatever I said.\n",
      "Audio saved to ./audio/test.mp3\n"
     ]
    }
   ],
   "source": [
    "script_to_audio('./transcription/script.txt', './audio/test.mp3')"
   ]
  }
 ],
 "metadata": {
  "kernelspec": {
   "display_name": ".venv",
   "language": "python",
   "name": "python3"
  },
  "language_info": {
   "codemirror_mode": {
    "name": "ipython",
    "version": 3
   },
   "file_extension": ".py",
   "mimetype": "text/x-python",
   "name": "python",
   "nbconvert_exporter": "python",
   "pygments_lexer": "ipython3",
   "version": "3.11.6"
  }
 },
 "nbformat": 4,
 "nbformat_minor": 2
}
